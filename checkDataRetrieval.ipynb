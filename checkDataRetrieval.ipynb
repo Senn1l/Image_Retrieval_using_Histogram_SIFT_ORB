{
 "cells": [
  {
   "cell_type": "code",
   "execution_count": 21,
   "metadata": {},
   "outputs": [],
   "source": [
    "import os\n",
    "import pandas as pd"
   ]
  },
  {
   "cell_type": "code",
   "execution_count": 22,
   "metadata": {},
   "outputs": [],
   "source": [
    "def myCheckFiles(csv_file_path, image_folder_path):\n",
    "    # Đọc tên ảnh từ file CSV\n",
    "    csv_data = pd.read_csv(csv_file_path)\n",
    "    image_numbers_from_csv = csv_data['Picture Name'].tolist()  # Thay 'image_name_column' bằng tên cột chứa tên ảnh\n",
    "\n",
    "    # Chuyển đổi số ảnh từ file CSV thành danh sách số\n",
    "    image_numbers_from_csv = [int(num) for num in image_numbers_from_csv]\n",
    "\n",
    "    # Lấy danh sách tên ảnh từ thư mục chứa ảnh\n",
    "    image_names_from_folder = os.listdir(image_folder_path)\n",
    "\n",
    "    # Tách phần số từ tên ảnh trong thư mục chứa ảnh\n",
    "    image_numbers_from_folder = [int(name.split('.')[0]) for name in image_names_from_folder]\n",
    "\n",
    "    # Tìm các ảnh có trong thư mục nhưng không có trong file CSV\n",
    "    missing_in_csv = set(image_numbers_from_folder) - set(image_numbers_from_csv)\n",
    "\n",
    "    # Tìm các ảnh có trong file CSV nhưng không có trong thư mục ảnh\n",
    "    extra_in_csv = set(image_numbers_from_csv) - set(image_numbers_from_folder)\n",
    "\n",
    "    # In ra các kết quả\n",
    "    print(\"Các ảnh có trong thư mục nhưng không có trong file CSV:\", missing_in_csv)\n",
    "    print(\"Các ảnh có trong file CSV nhưng không có trong thư mục ảnh:\", extra_in_csv)"
   ]
  },
  {
   "cell_type": "code",
   "execution_count": 23,
   "metadata": {},
   "outputs": [
    {
     "name": "stdout",
     "output_type": "stream",
     "text": [
      "Các ảnh có trong thư mục nhưng không có trong file CSV: {6514, 2211, 8509, 6515}\n",
      "Các ảnh có trong file CSV nhưng không có trong thư mục ảnh: set()\n"
     ]
    }
   ],
   "source": [
    "# Đường dẫn tới file CSV và thư mục chứa ảnh\n",
    "csv_file_path = 'path/to/your/csv/file' #(dataset.csv)\n",
    "image_folder_path = 'path/to/your/folder/image'\n",
    "\n",
    "myCheckFiles(csv_file_path, image_folder_path)"
   ]
  },
  {
   "cell_type": "markdown",
   "metadata": {},
   "source": [
    "- Như vậy có 4 ảnh thiếu trong file CSV, nhưng ta có 1118 dòng trong file csv và 1120 ảnh trong folder.\n",
    "- Có thể là trong csv có dòng bị lặp."
   ]
  },
  {
   "cell_type": "code",
   "execution_count": 24,
   "metadata": {},
   "outputs": [
    {
     "name": "stdout",
     "output_type": "stream",
     "text": [
      "Các dòng bị trùng lặp dựa trên cột cụ thể:\n",
      "207    2206\n",
      "792    8506\n",
      "Name: Picture Name, dtype: int64\n"
     ]
    }
   ],
   "source": [
    "# Kiểm tra các dòng bị lặp\n",
    "# Đọc file CSV vào DataFrame\n",
    "df = pd.read_csv(csv_file_path)\n",
    "\n",
    "# Kiểm tra các dòng bị trùng lặp dựa trên một cột cụ thể\n",
    "duplicated_rows = df[df.duplicated(subset=['Picture Name'])]  # Thay 'image_name_column' bằng tên cột cụ thể\n",
    "\n",
    "# In ra các dòng bị trùng lặp\n",
    "if not duplicated_rows.empty:\n",
    "    print(\"Các dòng bị trùng lặp dựa trên cột cụ thể:\")\n",
    "    print(duplicated_rows[\"Picture Name\"])\n",
    "else:\n",
    "    print(\"Không có dòng nào bị trùng lặp trong file CSV dựa trên cột cụ thể.\")"
   ]
  },
  {
   "cell_type": "markdown",
   "metadata": {},
   "source": [
    "- Vậy là ta biết được các dòng bị lặp, thực hiện sửa và đối chiếu với các ảnh trong folder\n",
    "- Mở file dataset.csv lên ta thấy dòng 208 và 209 lặp lại => Đối chiếu với các ảnh trong folder, ta nhận thấy ảnh 2209, 2210 và 2211 mới là ảnh NIGHT => Sửa từ dòng 209 đến dòng 213: từ 2207 -> 2211.\n",
    "- Và dòng 791, 794 là lặp lại. Ta chỉnh dòng 791 -> 793, (tương tự xem cột NIGHT đối chiếu ảnh) sửa thành 8507, 8508, 8509. Dòng 794 là đúng vì DAY, giữ nguyên."
   ]
  },
  {
   "cell_type": "code",
   "execution_count": 25,
   "metadata": {},
   "outputs": [
    {
     "name": "stdout",
     "output_type": "stream",
     "text": [
      "Các ảnh có trong thư mục nhưng không có trong file CSV: {6514, 6515}\n",
      "Các ảnh có trong file CSV nhưng không có trong thư mục ảnh: set()\n"
     ]
    }
   ],
   "source": [
    "# Đường dẫn tới file CSV đã sửa\n",
    "csv_modified_file_path = 'path/to/modified/csv/file' #(dataset_modified.csv)\n",
    "\n",
    "myCheckFiles(csv_modified_file_path, image_folder_path)"
   ]
  },
  {
   "cell_type": "markdown",
   "metadata": {},
   "source": [
    "- Sau khi sửa xong thì ta vẫn thấy có 2 ảnh không cần sử dụng là 6514, 6515, thực hiện chuyển sang folder ảnh không có trong csv."
   ]
  }
 ],
 "metadata": {
  "kernelspec": {
   "display_name": "base",
   "language": "python",
   "name": "python3"
  },
  "language_info": {
   "codemirror_mode": {
    "name": "ipython",
    "version": 3
   },
   "file_extension": ".py",
   "mimetype": "text/x-python",
   "name": "python",
   "nbconvert_exporter": "python",
   "pygments_lexer": "ipython3",
   "version": "3.11.4"
  }
 },
 "nbformat": 4,
 "nbformat_minor": 2
}
